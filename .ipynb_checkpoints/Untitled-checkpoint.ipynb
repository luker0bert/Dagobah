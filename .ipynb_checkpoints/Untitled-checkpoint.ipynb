{
 "cells": [
  {
   "cell_type": "code",
   "execution_count": null,
   "metadata": {},
   "outputs": [],
   "source": [
    "#This is the primary Ccding module for the project \\\"The Annals of Dagobah\\\" by the group The Data Swamp Sages of Dagobah.\\n\",\n",
    "   \n",
    "    %matplotlib inline\n",
    "   \n",
    "    # Dependencies and Setup\\\n",
    "    import matplotlib.pyplot as plt\n",
    "    import pandas as pd\n",
    "    import numpy as np\n",
    " \n",
    "    # File to Load (Remember to change these)\\n\",\n",
    "    path_StarWars = \\\"C:/Users/SS3/Desktop/GTBC/Project_1/Dagobah/Resources/StarWars.csv\\\"\\n\",\n",
    "    \n",
    "    df_StarWars = pd.read_csv(path_StarWars, encoding='iso8859_2')\n",
    "    \n",
    "    df_StarWars_Yes = df_StarWars.loc[(df_StarWars['SW_Fan']=='Yes')]\n",
    "    print(len(df_StarWars_Yes['Seen_SW']))\n",
    "    df_StarWars_Yes.head()\n",
    "    \n",
    "    \"#edit edity eidtnesss"
   ]
  }
 ],
 "metadata": {
  "kernelspec": {
   "display_name": "Python [conda env:PythonData]",
   "language": "python",
   "name": "conda-env-PythonData-py"
  },
  "language_info": {
   "codemirror_mode": {
    "name": "ipython",
    "version": 3
   },
   "file_extension": ".py",
   "mimetype": "text/x-python",
   "name": "python",
   "nbconvert_exporter": "python",
   "pygments_lexer": "ipython3",
   "version": "3.6.5"
  }
 },
 "nbformat": 4,
 "nbformat_minor": 2
}
