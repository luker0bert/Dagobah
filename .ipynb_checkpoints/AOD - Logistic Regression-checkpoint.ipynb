{
 "cells": [
  {
   "cell_type": "code",
   "execution_count": 1,
   "metadata": {},
   "outputs": [
    {
     "name": "stderr",
     "output_type": "stream",
     "text": [
      "C:\\Users\\SS3\\Anaconda2\\envs\\PythonData\\lib\\site-packages\\ipykernel\\__main__.py:25: SettingWithCopyWarning: \n",
      "A value is trying to be set on a copy of a slice from a DataFrame.\n",
      "Try using .loc[row_indexer,col_indexer] = value instead\n",
      "\n",
      "See the caveats in the documentation: http://pandas.pydata.org/pandas-docs/stable/indexing.html#indexing-view-versus-copy\n",
      "C:\\Users\\SS3\\Anaconda2\\envs\\PythonData\\lib\\site-packages\\pandas\\core\\generic.py:5886: SettingWithCopyWarning: \n",
      "A value is trying to be set on a copy of a slice from a DataFrame\n",
      "\n",
      "See the caveats in the documentation: http://pandas.pydata.org/pandas-docs/stable/indexing.html#indexing-view-versus-copy\n",
      "  self._update_inplace(new_data)\n"
     ]
    },
    {
     "data": {
      "image/png": "[encoded data removed]",
      "text/plain": [
       "<Figure size 432x288 with 1 Axes>"
      ]
     },
     "metadata": {},
     "output_type": "display_data"
    }
   ],
   "source": [
    "#This is the primary Coding module for the project \\\"The Annals of Dagobah\\\" by the group The Data Swamp Sages of Dagobah.\\n\",\n",
    "   \n",
    "%matplotlib inline\n",
    "   \n",
    "# Dependencies and Setup\\\n",
    "import matplotlib.pyplot as plt\n",
    "import pandas as pd\n",
    "import numpy as np\n",
    " \n",
    "# File to Load (Remember to change these)\\n\",\n",
    "path_StarWars = \"Resources/StarWars.csv\"\n",
    "    \n",
    "df_StarWars = pd.read_csv(path_StarWars, encoding='iso8859_2')\n",
    "    \n",
    "df_StarWars_Yes = df_StarWars.loc[(df_StarWars['SW_Fan']=='Yes')]\n",
    "#blankEduRows = df_StarWars.loc[(df_StarWars['Education']=='NaN')]\n",
    "#blankEduRows = (df_StarWars_Yes['Education'].isnull())\n",
    "#print(blankEduRows)\n",
    "#blankEduRows2 = blankEduRows.fillna(\" \")\n",
    "#print(blankEduRows2)\n",
    "df_StarWars_Yes_NoNull = df_StarWars_Yes.dropna(subset=['Education','StarTrek_Fan'])\n",
    "df_StarWars_Yes_NoNull.head()\n",
    "df_SW_cln = df_StarWars_Yes_NoNull\n",
    "\n",
    "df_SW_cln['Education_Score']=df_SW_cln['Education']\n",
    "\n",
    "df_SW_cln['Education_Score'].replace(to_replace='Less than high school degree',value=1,inplace=True)\n",
    "df_SW_cln['Education_Score'].replace(to_replace='High school degree',value=2,inplace=True)\n",
    "df_SW_cln['Education_Score'].replace(to_replace='Some college or Associate degree',value=3,inplace=True)\n",
    "df_SW_cln['Education_Score'].replace(to_replace='Bachelor degree',value=4,inplace=True)\n",
    "df_SW_cln['Education_Score'].replace(to_replace='Graduate degree',value=5,inplace=True)\n",
    "ser_EduScore = df_SW_cln['Education_Score']\n",
    "\n",
    "SWFans_edu_grpd = df_StarWars_Yes_NoNull.groupby('Education')['SW_Fan'].count()\n",
    "df_SWFans_edu_grpd = pd.DataFrame(SWFans_edu_grpd)\n",
    "\n",
    "#print(df_SWFans_edu_grpd)\n",
    "\n",
    "\n",
    "\n",
    "\n",
    "bin_labels = ['Less than high school degree','High school degree','Some college or Assoc degree','Bachelor degree','Graduate degree']\n",
    "\n",
    "\n",
    "#plt.hist(x,bins=5)\n",
    "#plt.show()\n",
    "\n",
    "#ax = plt.subplot(111)\n",
    "#width=0.3\n",
    "#bins= map(lambda x: x-width/2, range(1,6)) \n",
    "#ax.bar(bins,df_SWFans_edu_grpd,width=width)\n",
    "#ax.set_xticks(map(lambda x:x, range(1,6)))\n",
    "#ax.set_xticklabels(bin_labels,rotation=45)\n",
    "\n",
    "\n",
    "#ax.set_xticks(bins)\n",
    "#ax.annote\n",
    "\n",
    "\n",
    "#x=[1,1,1,1,1,1,2,2,2,2,2,2,2,3,3,3,3,3,3,3,3,3,3,3,3,4,4,4,4,5,5]\n",
    "#ax =plt.subplot()\n",
    "#bins=map(bin_labels)\n",
    "#ax.bar(bins,df_SWFans_edu_grpd)\n",
    "\n",
    " \n",
    "#plt.show()\n",
    "\n",
    "# Histogram Plot of Data\n",
    "plt.subplot()\n",
    "plt.hist(ser_EduScore, bins=5, density=True, alpha=0.7, label=\"Education Level\")\n",
    "#x,labels=plt.xticks()\n",
    "#print(x)\n",
    "#print(labels)\n",
    "\n",
    "plt.xticks([0.5,1.5,2.5,3.5,4.5],bin_labels,rotation=45)\n",
    "#plt.xticks(label=bin_labels)\n",
    "plt.show()\n",
    "\n",
    "#print(df_StarWars_Yes_NoNull)\n",
    "\n",
    "\n"
   ]
  },
  {
   "cell_type": "code",
   "execution_count": 3,
   "metadata": {},
   "outputs": [
    {
     "ename": "ModuleNotFoundError",
     "evalue": "No module named 'sklearn'",
     "output_type": "error",
     "traceback": [
      "\u001b[1;31m---------------------------------------------------------------------------\u001b[0m",
      "\u001b[1;31mModuleNotFoundError\u001b[0m                       Traceback (most recent call last)",
      "\u001b[1;32m<ipython-input-3-305c214d13c4>\u001b[0m in \u001b[0;36m<module>\u001b[1;34m()\u001b[0m\n\u001b[1;32m----> 1\u001b[1;33m \u001b[1;32mimport\u001b[0m \u001b[0msklearn\u001b[0m \u001b[1;32mas\u001b[0m \u001b[0mskl\u001b[0m\u001b[1;33m\u001b[0m\u001b[0m\n\u001b[0m\u001b[0;32m      2\u001b[0m \u001b[1;32mfrom\u001b[0m \u001b[0mskl\u001b[0m\u001b[1;33m.\u001b[0m\u001b[0mlinear_model\u001b[0m \u001b[1;32mimport\u001b[0m \u001b[0mLogisticRegression\u001b[0m\u001b[1;33m\u001b[0m\u001b[0m\n\u001b[0;32m      3\u001b[0m \u001b[0mlogisticRegr\u001b[0m \u001b[1;33m=\u001b[0m \u001b[0mLogisticRegression\u001b[0m\u001b[1;33m(\u001b[0m\u001b[1;33m)\u001b[0m\u001b[1;33m\u001b[0m\u001b[0m\n\u001b[0;32m      4\u001b[0m \u001b[1;33m\u001b[0m\u001b[0m\n\u001b[0;32m      5\u001b[0m \u001b[0mx_train\u001b[0m \u001b[1;33m=\u001b[0m \u001b[0mdf_SW_cln\u001b[0m\u001b[1;33m[\u001b[0m\u001b[1;34m'Education_Score'\u001b[0m\u001b[1;33m]\u001b[0m\u001b[1;33m\u001b[0m\u001b[0m\n",
      "\u001b[1;31mModuleNotFoundError\u001b[0m: No module named 'sklearn'"
     ]
    }
   ],
   "source": [
    "import sklearn as skl\n",
    "from skl.linear_model import LogisticRegression\n",
    "logisticRegr = LogisticRegression()\n",
    "\n",
    "x_train = df_SW_cln['Education_Score']\n",
    "y_train = df_SW_cln['StarTrek_Fan']\n",
    "\n",
    "logisticRegr.fit(x_train, y_train)"
   ]
  },
  {
   "cell_type": "code",
   "execution_count": null,
   "metadata": {},
   "outputs": [],
   "source": []
  }
 ],
 "metadata": {
  "kernelspec": {
   "display_name": "Python [conda env:PythonData]",
   "language": "python",
   "name": "conda-env-PythonData-py"
  },
  "language_info": {
   "codemirror_mode": {
    "name": "ipython",
    "version": 3
   },
   "file_extension": ".py",
   "mimetype": "text/x-python",
   "name": "python",
   "nbconvert_exporter": "python",
   "pygments_lexer": "ipython3",
   "version": "3.6.5"
  }
 },
 "nbformat": 4,
 "nbformat_minor": 2
}
